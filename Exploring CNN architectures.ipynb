{
 "cells": [
  {
   "cell_type": "markdown",
   "metadata": {},
   "source": [
    "# Exploring CNN architectures\n",
    "_Gabriella Mansur_\n",
    "\n",
    "In this small personal project, I am exploring how different CNN architectures, pre-trained on large image databases such as ImageNet, perform on predicting the ice cream pictures I took myself in different trips.\n",
    "\n",
    "Sources:\n",
    "* https://machinelearningmastery.com/use-pre-trained-vgg-model-classify-objects-photographs/"
   ]
  },
  {
   "cell_type": "code",
   "execution_count": 62,
   "metadata": {},
   "outputs": [],
   "source": [
    "from keras.applications.vgg16 import VGG16\n",
    "# load the model\n",
    "model_vgg16 = VGG16()"
   ]
  },
  {
   "cell_type": "code",
   "execution_count": 17,
   "metadata": {},
   "outputs": [
    {
     "name": "stdout",
     "output_type": "stream",
     "text": [
      "<class 'PIL.Image.Image'>\n",
      "None\n",
      "RGB\n",
      "(224, 224)\n"
     ]
    }
   ],
   "source": [
    "from keras.preprocessing.image import load_img\n",
    "# load an image from file\n",
    "\n",
    "icecream_1 = load_img('icecream_1.jpg', target_size=(224, 224))\n",
    "icecream_2 = load_img('icecream_2.jpg', target_size=(224, 224))\n",
    "icecream_3 = load_img('icecream_3.jpg', target_size=(224, 224))\n",
    "\n",
    "print(type(icecream_1))\n",
    "print(icecream_1.format)\n",
    "print(icecream_1.mode)\n",
    "print(icecream_1.size)"
   ]
  },
  {
   "cell_type": "code",
   "execution_count": 73,
   "metadata": {},
   "outputs": [
    {
     "data": {
      "text/plain": [
       "(224, 224, 3)"
      ]
     },
     "execution_count": 73,
     "metadata": {},
     "output_type": "execute_result"
    }
   ],
   "source": [
    "from keras.preprocessing.image import img_to_array\n",
    "# convert the image pixels to a numpy array\n",
    "icecream_1 = img_to_array(icecream_1)\n",
    "icecream_2 = img_to_array(icecream_2)\n",
    "icecream_3 = img_to_array(icecream_3)\n",
    "\n",
    "icecream_1.shape"
   ]
  },
  {
   "cell_type": "code",
   "execution_count": 74,
   "metadata": {},
   "outputs": [
    {
     "data": {
      "text/plain": [
       "(1, 224, 224, 3)"
      ]
     },
     "execution_count": 74,
     "metadata": {},
     "output_type": "execute_result"
    }
   ],
   "source": [
    "# reshape data\n",
    "icecream_1 = icecream_1.reshape((1, icecream_1.shape[0], icecream_1.shape[1], icecream_1.shape[2]))\n",
    "icecream_2 = icecream_2.reshape((1, icecream_2.shape[0], icecream_2.shape[1], icecream_2.shape[2]))\n",
    "icecream_3 = icecream_3.reshape((1, icecream_3.shape[0], icecream_3.shape[1], icecream_3.shape[2]))\n",
    "\n",
    "icecream_1.shape"
   ]
  },
  {
   "cell_type": "code",
   "execution_count": 75,
   "metadata": {},
   "outputs": [
    {
     "data": {
      "text/plain": [
       "(1, 224, 224, 3)"
      ]
     },
     "execution_count": 75,
     "metadata": {},
     "output_type": "execute_result"
    }
   ],
   "source": [
    "from keras.applications.vgg16 import preprocess_input\n",
    "# prepare the image for the VGG model\n",
    "icecream_1 = preprocess_input(icecream_1)\n",
    "icecream_2 = preprocess_input(icecream_2)\n",
    "icecream_3 = preprocess_input(icecream_3)\n",
    "\n",
    "icecream_1.shape"
   ]
  },
  {
   "cell_type": "code",
   "execution_count": 76,
   "metadata": {},
   "outputs": [],
   "source": [
    "prediction_1 = model.predict(icecream_1)\n",
    "prediction_2 = model.predict(icecream_2)\n",
    "prediction_3 = model.predict(icecream_3)"
   ]
  },
  {
   "cell_type": "code",
   "execution_count": 84,
   "metadata": {},
   "outputs": [],
   "source": [
    "from keras.applications.vgg16 import decode_predictions\n",
    "# convert the probabilities to class labels\n",
    "label_1 = decode_predictions(prediction_1)\n",
    "label_2 = decode_predictions(prediction_2)\n",
    "label_3 = decode_predictions(prediction_3)"
   ]
  },
  {
   "cell_type": "code",
   "execution_count": 85,
   "metadata": {},
   "outputs": [
    {
     "data": {
      "text/plain": [
       "[[('n07614500', 'ice_cream', 0.3208443),\n",
       "  ('n07697537', 'hotdog', 0.29033673),\n",
       "  ('n04270147', 'spatula', 0.10623181),\n",
       "  ('n07695742', 'pretzel', 0.057315633),\n",
       "  ('n07615774', 'ice_lolly', 0.044901438)]]"
      ]
     },
     "execution_count": 85,
     "metadata": {},
     "output_type": "execute_result"
    }
   ],
   "source": [
    "label_1"
   ]
  },
  {
   "cell_type": "code",
   "execution_count": 86,
   "metadata": {
    "scrolled": true
   },
   "outputs": [
    {
     "data": {
      "text/plain": [
       "[[('n07614500', 'ice_cream', 0.6903772),\n",
       "  ('n07836838', 'chocolate_sauce', 0.204322),\n",
       "  ('n07613480', 'trifle', 0.05477536),\n",
       "  ('n02776631', 'bakery', 0.029795479),\n",
       "  ('n07697313', 'cheeseburger', 0.009336981)]]"
      ]
     },
     "execution_count": 86,
     "metadata": {},
     "output_type": "execute_result"
    }
   ],
   "source": [
    "label_2"
   ]
  },
  {
   "cell_type": "code",
   "execution_count": 87,
   "metadata": {},
   "outputs": [
    {
     "data": {
      "text/plain": [
       "[[('n02807133', 'bathing_cap', 0.24263786),\n",
       "  ('n07614500', 'ice_cream', 0.21127716),\n",
       "  ('n07615774', 'ice_lolly', 0.08182096),\n",
       "  ('n04209133', 'shower_cap', 0.036785997),\n",
       "  ('n04584207', 'wig', 0.028097792)]]"
      ]
     },
     "execution_count": 87,
     "metadata": {},
     "output_type": "execute_result"
    }
   ],
   "source": [
    "label_3"
   ]
  },
  {
   "cell_type": "code",
   "execution_count": 81,
   "metadata": {},
   "outputs": [],
   "source": [
    "label_1 = label_1[0][0]\n",
    "label_2 = label_2[0][0]\n",
    "label_3 = label_3[0][0]"
   ]
  },
  {
   "cell_type": "code",
   "execution_count": 91,
   "metadata": {},
   "outputs": [],
   "source": [
    "from keras.preprocessing.image import load_img\n",
    "from keras.preprocessing.image import img_to_array\n",
    "from keras.applications.vgg16 import preprocess_input\n",
    "\n",
    "\n",
    "directory = r'C:/Users/20194985/Documents/ice_cream/'\n",
    "\n",
    "\n",
    "img_height = 224\n",
    "img_width = 224\n",
    "\n",
    "data = []\n",
    "\n",
    "#def image_preprocesing(filename, img_height, img_width, directory):\n",
    "for filename in os.listdir(directory):\n",
    "    img_path = directory + filename\n",
    "    img = load_img(img_path, target_size=(img_height, img_width))\n",
    "    img = img_to_array(img)\n",
    "    img = img.reshape((1, img_height, img_width, img.shape[2]))\n",
    "    img = preprocess_input(img)\n",
    "    data.append(img)\n",
    "#    return data"
   ]
  },
  {
   "cell_type": "code",
   "execution_count": 92,
   "metadata": {},
   "outputs": [
    {
     "data": {
      "text/plain": [
       "3"
      ]
     },
     "execution_count": 92,
     "metadata": {},
     "output_type": "execute_result"
    }
   ],
   "source": [
    "len(data)"
   ]
  },
  {
   "cell_type": "code",
   "execution_count": null,
   "metadata": {},
   "outputs": [],
   "source": []
  }
 ],
 "metadata": {
  "kernelspec": {
   "display_name": "Python 3",
   "language": "python",
   "name": "python3"
  },
  "language_info": {
   "codemirror_mode": {
    "name": "ipython",
    "version": 3
   },
   "file_extension": ".py",
   "mimetype": "text/x-python",
   "name": "python",
   "nbconvert_exporter": "python",
   "pygments_lexer": "ipython3",
   "version": "3.7.4"
  }
 },
 "nbformat": 4,
 "nbformat_minor": 2
}
